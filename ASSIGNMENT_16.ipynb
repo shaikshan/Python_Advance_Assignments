{
 "cells": [
  {
   "cell_type": "markdown",
   "id": "e253c40b",
   "metadata": {},
   "source": [
    "Q1. What is the benefit of regular expressions?"
   ]
  },
  {
   "cell_type": "code",
   "execution_count": null,
   "id": "ff081cf1",
   "metadata": {},
   "outputs": [],
   "source": []
  },
  {
   "cell_type": "markdown",
   "id": "92715042",
   "metadata": {},
   "source": [
    "Q2. Describe the difference between the effects of &quot;(ab)c+&quot; and &quot;a(bc)+.&quot; Which of these, if any, is the\n",
    "unqualified pattern &quot;abc+&quot;?"
   ]
  },
  {
   "cell_type": "code",
   "execution_count": null,
   "id": "df26550f",
   "metadata": {},
   "outputs": [],
   "source": []
  },
  {
   "cell_type": "markdown",
   "id": "bf95481d",
   "metadata": {},
   "source": [
    "Q3. How much do you need to use the following sentence while using regular expressions?\n",
    "\n",
    "import re"
   ]
  },
  {
   "cell_type": "code",
   "execution_count": null,
   "id": "aede975b",
   "metadata": {},
   "outputs": [],
   "source": []
  },
  {
   "cell_type": "markdown",
   "id": "6ac822b6",
   "metadata": {},
   "source": [
    "Q4. Which characters have special significance in square brackets when expressing a range, and\n",
    "under what circumstances?"
   ]
  },
  {
   "cell_type": "code",
   "execution_count": null,
   "id": "3cc7c210",
   "metadata": {},
   "outputs": [],
   "source": []
  },
  {
   "cell_type": "markdown",
   "id": "fa7bf317",
   "metadata": {},
   "source": [
    "Q5. How does compiling a regular-expression object benefit you?"
   ]
  },
  {
   "cell_type": "code",
   "execution_count": null,
   "id": "8693f695",
   "metadata": {},
   "outputs": [],
   "source": []
  },
  {
   "cell_type": "markdown",
   "id": "f41c9421",
   "metadata": {},
   "source": [
    "Q6. What are some examples of how to use the match object returned by re.match and re.search?"
   ]
  },
  {
   "cell_type": "code",
   "execution_count": null,
   "id": "b64b26ff",
   "metadata": {},
   "outputs": [],
   "source": []
  },
  {
   "cell_type": "markdown",
   "id": "a7d9232c",
   "metadata": {},
   "source": [
    "Q7. What is the difference between using a vertical bar (|) as an alteration and using square brackets\n",
    "as a character set?"
   ]
  },
  {
   "cell_type": "code",
   "execution_count": null,
   "id": "5f26012e",
   "metadata": {},
   "outputs": [],
   "source": []
  },
  {
   "cell_type": "markdown",
   "id": "7f6d1bf2",
   "metadata": {},
   "source": [
    "Q8. In regular-expression search patterns, why is it necessary to use the raw-string indicator (r)? In  \n",
    "replacement strings?"
   ]
  },
  {
   "cell_type": "code",
   "execution_count": null,
   "id": "4bd95974",
   "metadata": {},
   "outputs": [],
   "source": []
  }
 ],
 "metadata": {
  "kernelspec": {
   "display_name": "Python 3 (ipykernel)",
   "language": "python",
   "name": "python3"
  },
  "language_info": {
   "codemirror_mode": {
    "name": "ipython",
    "version": 3
   },
   "file_extension": ".py",
   "mimetype": "text/x-python",
   "name": "python",
   "nbconvert_exporter": "python",
   "pygments_lexer": "ipython3",
   "version": "3.9.7"
  }
 },
 "nbformat": 4,
 "nbformat_minor": 5
}
