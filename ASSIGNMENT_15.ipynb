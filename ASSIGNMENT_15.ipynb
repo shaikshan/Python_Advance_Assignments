{
 "cells": [
  {
   "cell_type": "markdown",
   "id": "c8e174a3",
   "metadata": {},
   "source": [
    "1 . What are the new features added in Python 3.8 version?"
   ]
  },
  {
   "cell_type": "code",
   "execution_count": null,
   "id": "42a37891",
   "metadata": {},
   "outputs": [],
   "source": []
  },
  {
   "cell_type": "markdown",
   "id": "5e5aba74",
   "metadata": {},
   "source": [
    "2 . What is monkey patching in Python?"
   ]
  },
  {
   "cell_type": "code",
   "execution_count": null,
   "id": "3109ccb7",
   "metadata": {},
   "outputs": [],
   "source": []
  },
  {
   "cell_type": "markdown",
   "id": "2408b6c7",
   "metadata": {},
   "source": [
    "3 . What is the difference between a shallow copy and deep copy?"
   ]
  },
  {
   "cell_type": "code",
   "execution_count": null,
   "id": "f8831b9c",
   "metadata": {},
   "outputs": [],
   "source": []
  },
  {
   "cell_type": "markdown",
   "id": "12ea158b",
   "metadata": {},
   "source": [
    "4 . What is the maximum possible length of an identifier?"
   ]
  },
  {
   "cell_type": "code",
   "execution_count": null,
   "id": "84c4e2db",
   "metadata": {},
   "outputs": [],
   "source": []
  },
  {
   "cell_type": "markdown",
   "id": "bea038b9",
   "metadata": {},
   "source": [
    "5 . What is generator comprehension?"
   ]
  },
  {
   "cell_type": "code",
   "execution_count": null,
   "id": "aef372a7",
   "metadata": {},
   "outputs": [],
   "source": []
  }
 ],
 "metadata": {
  "kernelspec": {
   "display_name": "Python 3 (ipykernel)",
   "language": "python",
   "name": "python3"
  },
  "language_info": {
   "codemirror_mode": {
    "name": "ipython",
    "version": 3
   },
   "file_extension": ".py",
   "mimetype": "text/x-python",
   "name": "python",
   "nbconvert_exporter": "python",
   "pygments_lexer": "ipython3",
   "version": "3.9.7"
  }
 },
 "nbformat": 4,
 "nbformat_minor": 5
}
